{
 "cells": [
  {
   "cell_type": "code",
   "execution_count": 1,
   "metadata": {
    "collapsed": true
   },
   "outputs": [],
   "source": [
    "import pandas as p\n",
    "\n",
    "trips = p.read_csv(\"data_2017_withweather.csv\").filter(items = [\"month\",\"day\",\"hour\",\"TaxiID\",\"TripSeconds\",\"Fare\",\"Company\",\"PickupCommunityArea\",\"temp_hour\",\"rain_hour\",\"temp_sdday\",\"rain_sdday\"])"
   ]
  },
  {
   "cell_type": "code",
   "execution_count": 2,
   "metadata": {
    "collapsed": true
   },
   "outputs": [],
   "source": [
    "def get_temp_cat(temp):\n",
    "    if temp <= 0.6:\n",
    "        return 0\n",
    "    elif temp <= 6.4:\n",
    "        return 1\n",
    "    elif temp <= 12.5:\n",
    "        return 2\n",
    "    else:\n",
    "        return 3\n",
    "\n",
    "def get_temp_sd_cat(temp_sd):\n",
    "    if temp_sd <= 1.5:\n",
    "        return 0\n",
    "    elif temp_sd <= 2.6:\n",
    "        return 1\n",
    "    elif temp_sd <= 3.8:\n",
    "        return 2\n",
    "    else:\n",
    "        return 3\n",
    "    \n",
    "def get_rain_sd_cat(rain_sd):\n",
    "    if rain_sd <= 0:\n",
    "        return 0\n",
    "    elif rain_sd <= 0.03:\n",
    "        return 1\n",
    "    elif rain_sd <= 0.42:\n",
    "        return 2\n",
    "    else:\n",
    "        return 3"
   ]
  },
  {
   "cell_type": "code",
   "execution_count": 3,
   "metadata": {
    "collapsed": true
   },
   "outputs": [],
   "source": [
    "areas = [\n",
    "    [1,2,3,4,9,10,11,12,13,14,76,77],        #Far North\n",
    "    [15,16,17,18,19,20],                     #Northwest\n",
    "    [5,6,7,21,22],                           #North\n",
    "    [23,24,25,26,27,28,29,30,31],            #West\n",
    "    [8,32,33],                               #Central\n",
    "    [56,57,58,59,61,62,63,64,65,66,67,68],   #Southwest\n",
    "    [34,35,36,37,38,39,40,41,42,43,60,69],   #South\n",
    "    [70,71,72,73,74,75],                     #Far Southwest\n",
    "    [44,45,46,47,48,49,50,51,52,53,54,55]    #Far Southeast\n",
    "]\n",
    "\n",
    "def get_side(area):\n",
    "    for sidei in range(0,len(areas)):\n",
    "        if area in areas[sidei]:\n",
    "            return sidei\n",
    "    return len(areas)                       #dummy that corresponds to unknown region"
   ]
  },
  {
   "cell_type": "code",
   "execution_count": 4,
   "metadata": {
    "collapsed": true
   },
   "outputs": [],
   "source": [
    "#encode trip data (temp, time,...) to categories used in analysis\n",
    "\n",
    "import datetime\n",
    "import math\n",
    "\n",
    "dow = []\n",
    "tod = []\n",
    "weekno = []\n",
    "temp_cat = []\n",
    "rain = []\n",
    "temp_sd_cat = []\n",
    "rain_sd_cat = []\n",
    "side = []\n",
    "for index,row in trips.iterrows():\n",
    "    date = datetime.datetime(2017,row[\"month\"],row[\"day\"])\n",
    "    dow.append(date.weekday())\n",
    "    weekno.append(date.isocalendar()[1])\n",
    "    tod.append(math.floor(row[\"hour\"]/6))\n",
    "    temp_cat.append(get_temp_cat(row[\"temp_hour\"]))\n",
    "    rain.append(row[\"rain_hour\"] > 0)\n",
    "    temp_sd_cat.append(get_temp_sd_cat(row[\"temp_sdday\"]))\n",
    "    rain_sd_cat.append(get_rain_sd_cat(row[\"rain_sdday\"]))\n",
    "    side.append(get_side(row[\"PickupCommunityArea\"]))\n",
    "    \n",
    "processed = p.DataFrame(data = {\"dow\":dow, \"tod\":tod, \"weekno\":weekno, \"temp_cat\":temp_cat, \"rain\":rain, \"temp_sd_cat\":temp_sd_cat, \"rain_sd_cat\":rain_sd_cat, \"side\":side})\n",
    "trips_processed = trips.join(processed)"
   ]
  },
  {
   "cell_type": "code",
   "execution_count": 8,
   "metadata": {
    "collapsed": true
   },
   "outputs": [],
   "source": [
    "#create hash map for aggregated trip data\n",
    "\n",
    "import numpy as np\n",
    "\n",
    "taxiperweek = []\n",
    "taxis = trips.loc[:,\"TaxiID\"].unique()\n",
    "n_taxis = len(taxis)\n",
    "for taxi_i in range(0,n_taxis):\n",
    "    for week in range(0,52):\n",
    "        taxiperweek.append({\"sampleId\":52*taxi_i+week,\"company\":None,\"revenue\":0,\"rides_time\":np.zeros((7,4)),\"rides_rain\":np.zeros(2),\"rides_temp\":np.zeros(4),\"temp_sd_cat\":np.zeros(4),\"rain_sd_cat\":np.zeros(4),\"seconds_total\": 0, \"rate\":0, \"side\":np.zeros(len(areas)+1)})"
   ]
  },
  {
   "cell_type": "code",
   "execution_count": 9,
   "metadata": {
    "collapsed": true
   },
   "outputs": [],
   "source": [
    "def get_taxiperweek_index(taxi_id,weekno):\n",
    "    return np.where(taxis == taxi_id)[0][0]*52+weekno-1"
   ]
  },
  {
   "cell_type": "code",
   "execution_count": 10,
   "metadata": {},
   "outputs": [],
   "source": [
    "#iterate through trips and update hash map\n",
    "\n",
    "for index,row in trips_processed.iterrows():\n",
    "    taxi_id = row[\"TaxiID\"]\n",
    "    if p.isnull(taxi_id):\n",
    "        continue\n",
    "    record = taxiperweek[get_taxiperweek_index(taxi_id,row[\"weekno\"])]\n",
    "    record[\"revenue\"] += float(row[\"Fare\"])\n",
    "    record[\"rides_time\"][row[\"dow\"]][row[\"tod\"]] += 1\n",
    "    record[\"rides_rain\"][int(row[\"rain\"])] += 1\n",
    "    record[\"rides_temp\"][row[\"temp_cat\"]] += 1\n",
    "    record[\"temp_sd_cat\"][row[\"temp_sd_cat\"]] += 1\n",
    "    record[\"rain_sd_cat\"][row[\"rain_sd_cat\"]] += 1\n",
    "    record[\"seconds_total\"] += float(row[\"TripSeconds\"])\n",
    "    seconds_total = record[\"seconds_total\"]\n",
    "    record[\"side\"][row[\"side\"]] += 1\n",
    "    if seconds_total > 0:\n",
    "        record[\"rate\"] = record[\"revenue\"] / seconds_total\n",
    "    company = row[\"Company\"]\n",
    "    if company not in [None,\"\"]:\n",
    "        record[\"company\"] = company"
   ]
  },
  {
   "cell_type": "code",
   "execution_count": 21,
   "metadata": {
    "collapsed": true
   },
   "outputs": [],
   "source": [
    "weekday_names = [\"Mon\",\"Tue\",\"Wed\",\"Thu\",\"Fri\",\"Sat\",\"Sun\"]\n",
    "tod_names = [\"Night\",\"Morning\",\"Afternoon\",\"Evening\"]\n",
    "def decode_time(time_id):\n",
    "    weekday = int(time_id / 7)\n",
    "    tod = time_id % 4\n",
    "    return weekday_names[weekday] + tod_names[tod]\n",
    "\n",
    "side_names = [\"Far North\",\"Northwest\",\"North\",\"West\",\"Central\",\"Southwest\",\"South\",\"Far Southwest\",\"Far Southeast\",\"Unknown\"]\n",
    "def decode_side(side_id):\n",
    "    return side_names[side_id]"
   ]
  },
  {
   "cell_type": "code",
   "execution_count": 26,
   "metadata": {},
   "outputs": [],
   "source": [
    "#flatten data so that it can be printed to a csv with meaningful labels\n",
    "\n",
    "taxiperweek_formatted = [[\"sampleId\",\"company\",\"revenue\",\"rate\",\"norain\",\"rain\"]]\n",
    "for i in range(0,28):\n",
    "    taxiperweek_formatted[0].append(decode_time(i))\n",
    "for i in range(0,4):\n",
    "    taxiperweek_formatted[0].append(\"temp\" + str(i))\n",
    "for i in range(0,4):\n",
    "    taxiperweek_formatted[0].append(\"temp_sd\" + str(i))\n",
    "for i in range(0,4):\n",
    "    taxiperweek_formatted[0].append(\"rain_sd\" + str(i))\n",
    "for i in range(0,len(areas) + 1):\n",
    "    taxiperweek_formatted[0].append(\"side\" + str(i))\n",
    "    \n",
    "for row in taxiperweek:\n",
    "    row_formatted = []\n",
    "    row_formatted.append(row[\"sampleId\"])\n",
    "    row_formatted.append(row[\"company\"])\n",
    "    row_formatted.append(row[\"revenue\"])\n",
    "    row_formatted.append(row[\"rate\"])\n",
    "    row_formatted += list(row[\"rides_rain\"]) + list(row[\"rides_time\"].flatten()) + list(row[\"rides_temp\"]) + list(row[\"temp_sd_cat\"]) + list(row[\"rain_sd_cat\"]) + list(row[\"side\"])\n",
    "    taxiperweek_formatted.append(row_formatted)"
   ]
  },
  {
   "cell_type": "code",
   "execution_count": 27,
   "metadata": {},
   "outputs": [],
   "source": [
    "weekly_stats = p.DataFrame(data = taxiperweek_formatted[1:], columns = taxiperweek_formatted[0])"
   ]
  },
  {
   "cell_type": "code",
   "execution_count": 28,
   "metadata": {
    "collapsed": true
   },
   "outputs": [],
   "source": [
    "weekly_stats.to_csv(\"weekly_stats.csv\")"
   ]
  },
  {
   "cell_type": "code",
   "execution_count": 29,
   "metadata": {
    "collapsed": true
   },
   "outputs": [],
   "source": [
    "taxiperweek_cleaned = []\n",
    "for row in taxiperweek_formatted[1:]:\n",
    "    if row[2] != 0:\n",
    "        taxiperweek_cleaned.append(row)\n",
    "p.DataFrame(data = taxiperweek_cleaned, columns = taxiperweek_formatted[0]).to_csv(\"weekly_stats_nonzero.csv\")"
   ]
  },
  {
   "cell_type": "code",
   "execution_count": null,
   "metadata": {
    "collapsed": true
   },
   "outputs": [],
   "source": []
  }
 ],
 "metadata": {
  "kernelspec": {
   "display_name": "Python 3",
   "language": "python",
   "name": "python3"
  },
  "language_info": {
   "codemirror_mode": {
    "name": "ipython",
    "version": 3
   },
   "file_extension": ".py",
   "mimetype": "text/x-python",
   "name": "python",
   "nbconvert_exporter": "python",
   "pygments_lexer": "ipython3",
   "version": "3.6.3"
  }
 },
 "nbformat": 4,
 "nbformat_minor": 2
}
